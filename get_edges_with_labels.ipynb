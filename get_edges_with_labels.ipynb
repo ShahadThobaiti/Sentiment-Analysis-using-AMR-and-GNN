{
 "cells": [
  {
   "cell_type": "code",
   "execution_count": 1,
   "id": "6a0df73a-edff-42f1-aaa5-3de6bdbbf269",
   "metadata": {},
   "outputs": [],
   "source": [
    "from typing import Tuple, List, Iterable\n",
    "from pydot import Dot, graph_from_dot_data, Edge\n",
    "from graphviz.graphs import BaseGraph\n",
    "from graphviz import Source\n",
    "import amrlib\n",
    "from amrlib.graph_processing.amr_plot import AMRPlot\n",
    "import numpy as np\n",
    "import pandas as pd "
   ]
  },
  {
   "cell_type": "code",
   "execution_count": 2,
   "id": "0e779eaf-51f6-4b21-b9eb-a534295e90b4",
   "metadata": {},
   "outputs": [],
   "source": [
    "def get_graph_dot_obj(graph_spec) -> List[Dot]:\n",
    "    \"\"\"Get a dot (graphs) object list from a variety \n",
    "    of possible sources (postelizing inputs here)\"\"\"\n",
    "    _original_graph_spec = graph_spec\n",
    "    if isinstance(graph_spec, (BaseGraph, Source)):\n",
    "        # get the source (str) from a graph object\n",
    "        graph_spec = graph_spec.source\n",
    "    if isinstance(graph_spec, str):\n",
    "        # get a dot-graph from dot string data\n",
    "        graph_spec = graph_from_dot_data(graph_spec)\n",
    "    # make sure we have a list of Dot objects now\n",
    "    assert isinstance(graph_spec, list) and all(\n",
    "        isinstance(x, Dot) for x in graph_spec\n",
    "    ), (\n",
    "        f\"Couldn't get a proper dot object list from: {_original_graph_spec}. \"\n",
    "        f\"At this point, we should have a list of Dot objects, but was: {graph_spec}\"\n",
    "    )\n",
    "    return graph_spec\n",
    "\n",
    "def get_edges(graph_spec, label = False):\n",
    "    \"\"\"Get a list of edges for a given graph (or list of lists thereof).\n",
    "    If ``postprocess_edges`` is ``None`` the function will return ``pydot.Edge`` objects from\n",
    "    which you can extract any information you want.\n",
    "    By default though, it is set to extract the node pairs for the edges, and you can\n",
    "    replace with any function that takes ``pydot.Edge`` as an input.\n",
    "    \"\"\"\n",
    "    graphs = get_graph_dot_obj(graph_spec)\n",
    "    n_graphs = len(graphs)\n",
    "\n",
    "    if n_graphs > 1:\n",
    "        return [get_edges(graph) for graph in graphs]\n",
    "    elif n_graphs == 0:\n",
    "        raise ValueError(f\"Your input had no graphs\")\n",
    "    else:\n",
    "        graph = graphs[0]\n",
    "        edges = graph.get_edges()\n",
    "        edges_list = []\n",
    "        \n",
    "        if not label:\n",
    "            for edge in edges:\n",
    "                edges_list.append((graph.get_node(edge.get_source())[0].get_label(),\n",
    "                                   graph.get_node(edge.get_destination())[0].get_label()))\n",
    "        else:\n",
    "            for edge in edges:\n",
    "                edges_list.append((graph.get_node(edge.get_source())[0].get_label(),\n",
    "                                   graph.get_node(edge.get_destination())[0].get_label(),\n",
    "                                   edge.get_label() ))\n",
    "\n",
    "        return edges_list\n",
    "\n",
    "    \n",
    "    \n",
    "#cite: https://stackoverflow.com/questions/47426249/finding-list-of-edges-in-graphviz-in-python    "
   ]
  },
  {
   "cell_type": "code",
   "execution_count": 3,
   "id": "31bcdf2a-86b4-4efd-bc23-a5c98252ddd2",
   "metadata": {},
   "outputs": [],
   "source": [
    "stog = amrlib.load_stog_model()\n",
    "graph = stog.parse_sents(['This is a test of the system'], add_metadata = False)\n"
   ]
  },
  {
   "cell_type": "code",
   "execution_count": 4,
   "id": "73f2d501-41ff-47b3-9ec1-ce504bbaf7b1",
   "metadata": {},
   "outputs": [
    {
     "name": "stdout",
     "output_type": "stream",
     "text": [
      "(t / test-01\n",
      "      :ARG1 (s / system)\n",
      "      :domain (t2 / this))\n"
     ]
    }
   ],
   "source": [
    "print(graph[0])"
   ]
  },
  {
   "cell_type": "code",
   "execution_count": 5,
   "id": "7aa11a6c-26eb-4644-8718-97ed668d3a6d",
   "metadata": {},
   "outputs": [],
   "source": [
    "AP = AMRPlot()\n",
    "AP.build_from_graph(entry = graph)\n"
   ]
  },
  {
   "cell_type": "code",
   "execution_count": 6,
   "id": "9ad3a9aa-bab8-4802-a108-2be735bfc79d",
   "metadata": {},
   "outputs": [
    {
     "name": "stdout",
     "output_type": "stream",
     "text": [
      "huggingface/tokenizers: The current process just got forked, after parallelism has already been used. Disabling parallelism to avoid deadlocks...\n",
      "To disable this warning, you can either:\n",
      "\t- Avoid using `tokenizers` before the fork if possible\n",
      "\t- Explicitly set the environment variable TOKENIZERS_PARALLELISM=(true | false)\n"
     ]
    },
    {
     "data": {
      "image/svg+xml": [
       "<?xml version=\"1.0\" encoding=\"UTF-8\" standalone=\"no\"?>\n",
       "<!DOCTYPE svg PUBLIC \"-//W3C//DTD SVG 1.1//EN\"\n",
       " \"http://www.w3.org/Graphics/SVG/1.1/DTD/svg11.dtd\">\n",
       "<!-- Generated by graphviz version 2.50.0 (20211204.2007)\n",
       " -->\n",
       "<!-- Title: amr_graph Pages: 1 -->\n",
       "<svg width=\"252pt\" height=\"174pt\"\n",
       " viewBox=\"0.00 0.00 252.49 174.09\" xmlns=\"http://www.w3.org/2000/svg\" xmlns:xlink=\"http://www.w3.org/1999/xlink\">\n",
       "<g id=\"graph0\" class=\"graph\" transform=\"scale(1 1) rotate(0) translate(4 170.09)\">\n",
       "<title>amr_graph</title>\n",
       "<polygon fill=\"white\" stroke=\"transparent\" points=\"-4,4 -4,-170.09 248.49,-170.09 248.49,4 -4,4\"/>\n",
       "<!-- t -->\n",
       "<g id=\"node1\" class=\"node\">\n",
       "<title>t</title>\n",
       "<ellipse fill=\"none\" stroke=\"black\" cx=\"39.65\" cy=\"-78.5\" rx=\"39.79\" ry=\"39.79\"/>\n",
       "<text text-anchor=\"middle\" x=\"39.65\" y=\"-74.8\" font-family=\"Times,serif\" font-size=\"14.00\">t/test&#45;01</text>\n",
       "</g>\n",
       "<!-- s -->\n",
       "<g id=\"node2\" class=\"node\">\n",
       "<title>s</title>\n",
       "<ellipse fill=\"none\" stroke=\"black\" cx=\"202.89\" cy=\"-124.5\" rx=\"41.69\" ry=\"41.69\"/>\n",
       "<text text-anchor=\"middle\" x=\"202.89\" y=\"-120.8\" font-family=\"Times,serif\" font-size=\"14.00\">s/system</text>\n",
       "</g>\n",
       "<!-- t&#45;&gt;s -->\n",
       "<g id=\"edge1\" class=\"edge\">\n",
       "<title>t&#45;&gt;s</title>\n",
       "<path fill=\"none\" stroke=\"black\" d=\"M78.04,-89.17C100.37,-95.53 128.97,-103.69 153.06,-110.57\"/>\n",
       "<polygon fill=\"black\" stroke=\"black\" points=\"152.15,-113.95 162.73,-113.33 154.07,-107.22 152.15,-113.95\"/>\n",
       "<text text-anchor=\"middle\" x=\"120.29\" y=\"-110.3\" font-family=\"Times,serif\" font-size=\"14.00\">:ARG1</text>\n",
       "</g>\n",
       "<!-- t2 -->\n",
       "<g id=\"node3\" class=\"node\">\n",
       "<title>t2</title>\n",
       "<ellipse fill=\"none\" stroke=\"black\" cx=\"202.89\" cy=\"-32.5\" rx=\"32.49\" ry=\"32.49\"/>\n",
       "<text text-anchor=\"middle\" x=\"202.89\" y=\"-28.8\" font-family=\"Times,serif\" font-size=\"14.00\">t2/this</text>\n",
       "</g>\n",
       "<!-- t&#45;&gt;t2 -->\n",
       "<g id=\"edge2\" class=\"edge\">\n",
       "<title>t&#45;&gt;t2</title>\n",
       "<path fill=\"none\" stroke=\"black\" d=\"M78.04,-67.83C103.09,-60.68 136.05,-51.28 161.66,-43.97\"/>\n",
       "<polygon fill=\"black\" stroke=\"black\" points=\"162.79,-47.29 171.44,-41.18 160.87,-40.56 162.79,-47.29\"/>\n",
       "<text text-anchor=\"middle\" x=\"120.29\" y=\"-65.3\" font-family=\"Times,serif\" font-size=\"14.00\">:domain</text>\n",
       "</g>\n",
       "</g>\n",
       "</svg>\n"
      ],
      "text/plain": [
       "<graphviz.graphs.Digraph at 0x15a88fbe0>"
      ]
     },
     "execution_count": 6,
     "metadata": {},
     "output_type": "execute_result"
    }
   ],
   "source": [
    "AP.graph"
   ]
  },
  {
   "cell_type": "code",
   "execution_count": 7,
   "id": "67c85e0f-a2a0-4a57-9864-94d6df742bb9",
   "metadata": {},
   "outputs": [
    {
     "data": {
      "text/plain": [
       "(('\"t/test-01\"', '\"s/system\"'), ('\"t/test-01\"', '\"t2/this\"'))"
      ]
     },
     "execution_count": 7,
     "metadata": {},
     "output_type": "execute_result"
    }
   ],
   "source": [
    "edges = tuple(get_edges(AP.graph))\n",
    "edges"
   ]
  },
  {
   "cell_type": "code",
   "execution_count": 8,
   "id": "aad99283-2e26-4b0b-a80e-342f184063fe",
   "metadata": {},
   "outputs": [
    {
     "data": {
      "text/plain": [
       "(('\"t/test-01\"', '\"s/system\"', '\":ARG1\"'),\n",
       " ('\"t/test-01\"', '\"t2/this\"', '\":domain\"'))"
      ]
     },
     "execution_count": 8,
     "metadata": {},
     "output_type": "execute_result"
    }
   ],
   "source": [
    "edges_with_labels  = tuple(get_edges(AP.graph, label = True))\n",
    "edges_with_labels"
   ]
  },
  {
   "cell_type": "markdown",
   "id": "ff89e9fb-1b33-4a46-ba70-205d16b4afd1",
   "metadata": {},
   "source": [
    "## Adjacency matrix (n*m)\n",
    "### n is the number of source words, m is the number of target words"
   ]
  },
  {
   "cell_type": "code",
   "execution_count": 9,
   "id": "f075e61c-bfb9-41f3-8746-39e40012285c",
   "metadata": {},
   "outputs": [],
   "source": [
    "sources = list(set([i for i, j, l in edges_with_labels]))\n",
    "targets = list(set([j for i, j, l in edges_with_labels]))\n",
    "labels = list(set([l for i, j, l in edges_with_labels]))\n",
    "adj_matrix = np.zeros((len(sources),len(targets)))\n",
    "\n",
    "for i, j, l in edges_with_labels:\n",
    "    s = sources.index(i)\n",
    "    t = targets.index(j)\n",
    "    adj_matrix[s][t] = 1"
   ]
  },
  {
   "cell_type": "code",
   "execution_count": 10,
   "id": "a89f6ba7-52be-4d86-ab76-1f127d0a8949",
   "metadata": {},
   "outputs": [],
   "source": [
    "df1 = pd.DataFrame(data = adj_matrix, index = sources , columns = targets)"
   ]
  },
  {
   "cell_type": "code",
   "execution_count": 11,
   "id": "ae406332-19a8-4589-9e24-53b247263082",
   "metadata": {},
   "outputs": [
    {
     "data": {
      "text/html": [
       "<div>\n",
       "<style scoped>\n",
       "    .dataframe tbody tr th:only-of-type {\n",
       "        vertical-align: middle;\n",
       "    }\n",
       "\n",
       "    .dataframe tbody tr th {\n",
       "        vertical-align: top;\n",
       "    }\n",
       "\n",
       "    .dataframe thead th {\n",
       "        text-align: right;\n",
       "    }\n",
       "</style>\n",
       "<table border=\"1\" class=\"dataframe\">\n",
       "  <thead>\n",
       "    <tr style=\"text-align: right;\">\n",
       "      <th></th>\n",
       "      <th>\"s/system\"</th>\n",
       "      <th>\"t2/this\"</th>\n",
       "    </tr>\n",
       "  </thead>\n",
       "  <tbody>\n",
       "    <tr>\n",
       "      <th>\"t/test-01\"</th>\n",
       "      <td>1.0</td>\n",
       "      <td>1.0</td>\n",
       "    </tr>\n",
       "  </tbody>\n",
       "</table>\n",
       "</div>"
      ],
      "text/plain": [
       "             \"s/system\"  \"t2/this\"\n",
       "\"t/test-01\"         1.0        1.0"
      ]
     },
     "execution_count": 11,
     "metadata": {},
     "output_type": "execute_result"
    }
   ],
   "source": [
    "df1"
   ]
  },
  {
   "cell_type": "markdown",
   "id": "b63e6b75-ce01-47d9-8c7a-6960d64996ee",
   "metadata": {},
   "source": [
    "## Adjacency matrix (n*n)\n",
    "### n is the number of words"
   ]
  },
  {
   "cell_type": "code",
   "execution_count": 12,
   "id": "2ad4f1b2-2659-43ec-aa03-a44f4f0bb020",
   "metadata": {},
   "outputs": [
    {
     "data": {
      "text/plain": [
       "array([[0., 0., 0.],\n",
       "       [1., 0., 1.],\n",
       "       [0., 0., 0.]])"
      ]
     },
     "execution_count": 12,
     "metadata": {},
     "output_type": "execute_result"
    }
   ],
   "source": [
    "node_names2, adj_idx2 = np.unique(edges, return_inverse=True)\n",
    "adj_idx2 = adj_idx2.reshape(-1, 2)\n",
    "adj_matrix2 = np.zeros((len(node_names2),)*2)\n",
    "adj_matrix2[adj_idx2[:, 0], adj_idx2[:, 1]] = 1\n",
    "adj_matrix2\n",
    "#cite: https://stackoverflow.com/questions/21324774/convert-non-numeric-tuples-to-numpy-matrix"
   ]
  },
  {
   "cell_type": "code",
   "execution_count": 13,
   "id": "29f5b06c-7553-41d6-8a74-f4f752b745af",
   "metadata": {},
   "outputs": [
    {
     "data": {
      "text/html": [
       "<div>\n",
       "<style scoped>\n",
       "    .dataframe tbody tr th:only-of-type {\n",
       "        vertical-align: middle;\n",
       "    }\n",
       "\n",
       "    .dataframe tbody tr th {\n",
       "        vertical-align: top;\n",
       "    }\n",
       "\n",
       "    .dataframe thead th {\n",
       "        text-align: right;\n",
       "    }\n",
       "</style>\n",
       "<table border=\"1\" class=\"dataframe\">\n",
       "  <thead>\n",
       "    <tr style=\"text-align: right;\">\n",
       "      <th></th>\n",
       "      <th>\"s/system\"</th>\n",
       "      <th>\"t/test-01\"</th>\n",
       "      <th>\"t2/this\"</th>\n",
       "    </tr>\n",
       "  </thead>\n",
       "  <tbody>\n",
       "    <tr>\n",
       "      <th>\"s/system\"</th>\n",
       "      <td>0.0</td>\n",
       "      <td>0.0</td>\n",
       "      <td>0.0</td>\n",
       "    </tr>\n",
       "    <tr>\n",
       "      <th>\"t/test-01\"</th>\n",
       "      <td>1.0</td>\n",
       "      <td>0.0</td>\n",
       "      <td>1.0</td>\n",
       "    </tr>\n",
       "    <tr>\n",
       "      <th>\"t2/this\"</th>\n",
       "      <td>0.0</td>\n",
       "      <td>0.0</td>\n",
       "      <td>0.0</td>\n",
       "    </tr>\n",
       "  </tbody>\n",
       "</table>\n",
       "</div>"
      ],
      "text/plain": [
       "             \"s/system\"  \"t/test-01\"  \"t2/this\"\n",
       "\"s/system\"          0.0          0.0        0.0\n",
       "\"t/test-01\"         1.0          0.0        1.0\n",
       "\"t2/this\"           0.0          0.0        0.0"
      ]
     },
     "execution_count": 13,
     "metadata": {},
     "output_type": "execute_result"
    }
   ],
   "source": [
    "df2 = pd.DataFrame(data = adj_matrix2, index = node_names2 , columns = node_names2)\n",
    "df2"
   ]
  },
  {
   "cell_type": "code",
   "execution_count": null,
   "id": "1df202bf-cbba-4c78-a156-a3d0ae9f2fb9",
   "metadata": {},
   "outputs": [],
   "source": []
  }
 ],
 "metadata": {
  "kernelspec": {
   "display_name": "Python 3 (ipykernel)",
   "language": "python",
   "name": "python3"
  },
  "language_info": {
   "codemirror_mode": {
    "name": "ipython",
    "version": 3
   },
   "file_extension": ".py",
   "mimetype": "text/x-python",
   "name": "python",
   "nbconvert_exporter": "python",
   "pygments_lexer": "ipython3",
   "version": "3.9.7"
  }
 },
 "nbformat": 4,
 "nbformat_minor": 5
}
