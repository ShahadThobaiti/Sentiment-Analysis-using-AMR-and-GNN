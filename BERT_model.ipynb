{
 "cells": [
  {
   "cell_type": "code",
   "execution_count": 1,
   "id": "d1b840bd-e2ca-4085-9084-435034494c4a",
   "metadata": {},
   "outputs": [],
   "source": [
    "from bert_sklearn import BertClassifier\n",
    "import pandas as pd\n",
    "from sklearn.metrics import accuracy_score, f1_score\n",
    "import matplotlib.pyplot as plt\n",
    "import seaborn as sns\n",
    "from sklearn.metrics import ConfusionMatrixDisplay\n",
    "from sklearn.metrics import classification_report, accuracy_score, confusion_matrix\n",
    "\n",
    "\n"
   ]
  },
  {
   "cell_type": "code",
   "execution_count": 2,
   "id": "012041bf-3fb2-4971-aa19-909928f296e5",
   "metadata": {},
   "outputs": [],
   "source": [
    "train = pd.read_csv('train.csv')\n",
    "test = pd.read_csv('test.csv')"
   ]
  },
  {
   "cell_type": "code",
   "execution_count": 3,
   "id": "754d1a0e-dc15-4d0e-9e13-69a0f9708ef3",
   "metadata": {},
   "outputs": [],
   "source": [
    "X_train = list(train['processed tweet'])\n",
    "y_train = list(train['Sentiment'])\n",
    "\n",
    "X_test =list(test['processed tweet'])\n",
    "y_test = list(test['Sentiment'])\n"
   ]
  },
  {
   "cell_type": "code",
   "execution_count": 4,
   "id": "f7dd5f5c-4557-4f49-9117-2f23fd7187cb",
   "metadata": {},
   "outputs": [
    {
     "name": "stdout",
     "output_type": "stream",
     "text": [
      "Building sklearn text classifier...\n",
      "Loading bert-base-uncased model...\n",
      "Defaulting to linear classifier/regressor\n",
      "Loading Pytorch checkpoint\n",
      "train data size: 1440, validation data size: 160\n"
     ]
    },
    {
     "name": "stderr",
     "output_type": "stream",
     "text": [
      "Training  :   0%|                                        | 0/45 [00:00<?, ?it/s]/opt/homebrew/Caskroom/miniforge/base/lib/python3.9/site-packages/bert_sklearn/model/pytorch_pretrained/optimization.py:275: UserWarning: This overload of add_ is deprecated:\n",
      "\tadd_(Number alpha, Tensor other)\n",
      "Consider using one of the following signatures instead:\n",
      "\tadd_(Tensor other, *, Number alpha) (Triggered internally at  /Users/distiller/project/pytorch/torch/csrc/utils/python_arg_parser.cpp:1055.)\n",
      "  next_m.mul_(beta1).add_(1 - beta1, grad)\n",
      "Training  : 100%|████████████████████| 45/45 [06:16<00:00,  8.38s/it, loss=1.08]\n",
      "Validating: 100%|███████████████████████████████| 20/20 [00:36<00:00,  1.81s/it]"
     ]
    },
    {
     "name": "stdout",
     "output_type": "stream",
     "text": [
      "Epoch 1, Train loss: 1.0832, Val loss: 1.0804, Val accy: 44.38%\n"
     ]
    },
    {
     "name": "stderr",
     "output_type": "stream",
     "text": [
      "\n",
      "Training  : 100%|███████████████████| 45/45 [06:16<00:00,  8.36s/it, loss=0.956]\n",
      "Validating: 100%|███████████████████████████████| 20/20 [00:36<00:00,  1.81s/it]"
     ]
    },
    {
     "name": "stdout",
     "output_type": "stream",
     "text": [
      "Epoch 2, Train loss: 0.9560, Val loss: 0.9960, Val accy: 50.62%\n"
     ]
    },
    {
     "name": "stderr",
     "output_type": "stream",
     "text": [
      "\n",
      "Training  : 100%|███████████████████| 45/45 [06:15<00:00,  8.35s/it, loss=0.698]\n",
      "Validating: 100%|███████████████████████████████| 20/20 [00:36<00:00,  1.80s/it]"
     ]
    },
    {
     "name": "stdout",
     "output_type": "stream",
     "text": [
      "Epoch 3, Train loss: 0.6978, Val loss: 1.0654, Val accy: 53.75%\n"
     ]
    },
    {
     "name": "stderr",
     "output_type": "stream",
     "text": [
      "\n"
     ]
    },
    {
     "data": {
      "text/plain": [
       "BertClassifier(do_lower_case=True,\n",
       "               label_list=array(['Negative', 'Neutral', 'Positive'], dtype='<U8'))"
      ]
     },
     "execution_count": 4,
     "metadata": {},
     "output_type": "execute_result"
    }
   ],
   "source": [
    "model = BertClassifier()\n",
    "model.fit(X_train, y_train)"
   ]
  },
  {
   "cell_type": "code",
   "execution_count": 5,
   "id": "9fad38d0-db8c-42df-b0ec-8094fdde0df3",
   "metadata": {},
   "outputs": [
    {
     "name": "stderr",
     "output_type": "stream",
     "text": [
      "Predicting: 100%|███████████████████████████████| 50/50 [00:51<00:00,  1.02s/it]\n"
     ]
    }
   ],
   "source": [
    "predictions = model.predict(X_test)"
   ]
  },
  {
   "cell_type": "code",
   "execution_count": 6,
   "id": "27e6541c-0245-472e-a896-42ad35d14060",
   "metadata": {},
   "outputs": [],
   "source": [
    "f1 = f1_score(y_test, predictions, average='micro')*100\n",
    "accuracy = accuracy_score(y_test, predictions)*100"
   ]
  },
  {
   "cell_type": "code",
   "execution_count": 7,
   "id": "d5132b9d-685a-4fc9-ba67-31c128d8dd79",
   "metadata": {},
   "outputs": [
    {
     "name": "stdout",
     "output_type": "stream",
     "text": [
      "Accuracy = 58.25\n",
      "F1 score = 58.25\n"
     ]
    }
   ],
   "source": [
    "print('Accuracy = %.2f'% accuracy)\n",
    "print('F1 score = %.2f'% f1)"
   ]
  },
  {
   "cell_type": "code",
   "execution_count": 8,
   "id": "bd7eb65b-5833-4c45-ba48-3d9bb756e623",
   "metadata": {},
   "outputs": [
    {
     "data": {
      "text/plain": [
       "0.1"
      ]
     },
     "execution_count": 8,
     "metadata": {},
     "output_type": "execute_result"
    }
   ],
   "source": [
    "model.validation_fraction"
   ]
  },
  {
   "cell_type": "code",
   "execution_count": 9,
   "id": "c1df5ec8-82ac-4bef-bb09-ddfa6c73ef31",
   "metadata": {},
   "outputs": [
    {
     "data": {
      "text/plain": [
       "{'bert_config_json': None,\n",
       " 'bert_model': 'bert-base-uncased',\n",
       " 'bert_vocab': None,\n",
       " 'do_lower_case': True,\n",
       " 'epochs': 3,\n",
       " 'eval_batch_size': 8,\n",
       " 'fp16': False,\n",
       " 'from_tf': False,\n",
       " 'gradient_accumulation_steps': 1,\n",
       " 'ignore_label': None,\n",
       " 'label_list': array(['Negative', 'Neutral', 'Positive'], dtype='<U8'),\n",
       " 'learning_rate': 2e-05,\n",
       " 'local_rank': -1,\n",
       " 'logfile': 'bert_sklearn.log',\n",
       " 'loss_scale': 0,\n",
       " 'max_seq_length': 128,\n",
       " 'num_mlp_hiddens': 500,\n",
       " 'num_mlp_layers': 0,\n",
       " 'random_state': 42,\n",
       " 'restore_file': None,\n",
       " 'train_batch_size': 32,\n",
       " 'use_cuda': True,\n",
       " 'validation_fraction': 0.1,\n",
       " 'warmup_proportion': 0.1}"
      ]
     },
     "execution_count": 9,
     "metadata": {},
     "output_type": "execute_result"
    }
   ],
   "source": [
    "model.get_params()"
   ]
  },
  {
   "cell_type": "code",
   "execution_count": 30,
   "id": "3684e616-bc2c-4205-aac0-f7f89772f70d",
   "metadata": {},
   "outputs": [
    {
     "data": {
      "image/png": "[encoded data removed]",
      "text/plain": [
       "<Figure size 432x288 with 2 Axes>"
      ]
     },
     "metadata": {
      "needs_background": "light"
     },
     "output_type": "display_data"
    }
   ],
   "source": [
    "cm = confusion_matrix(predictions, y_test)\n",
    "class_labels = ['Negative', 'Neutral', 'Positive']\n",
    "disp = ConfusionMatrixDisplay(confusion_matrix = cm, display_labels = class_labels)\n",
    "disp.plot(cmap=plt.cm.Blues)\n",
    "plt.title('BERT Classifier')\n",
    "plt.savefig(\"BERT_cm.png\", dpi = 300)\n",
    "plt.show()\n",
    "\n"
   ]
  },
  {
   "cell_type": "code",
   "execution_count": 26,
   "id": "a96dd605-bb5b-4d6e-b29b-e7506cc262c4",
   "metadata": {},
   "outputs": [
    {
     "data": {
      "text/plain": [
       "Counter({'Negative': 150, 'Positive': 175, 'Neutral': 75})"
      ]
     },
     "execution_count": 26,
     "metadata": {},
     "output_type": "execute_result"
    }
   ],
   "source": [
    "from collections import  Counter\n",
    "Counter(predictions)"
   ]
  },
  {
   "cell_type": "code",
   "execution_count": null,
   "id": "406ac310-3055-4fe3-8758-028dd8215534",
   "metadata": {},
   "outputs": [],
   "source": []
  }
 ],
 "metadata": {
  "kernelspec": {
   "display_name": "Python 3 (ipykernel)",
   "language": "python",
   "name": "python3"
  },
  "language_info": {
   "codemirror_mode": {
    "name": "ipython",
    "version": 3
   },
   "file_extension": ".py",
   "mimetype": "text/x-python",
   "name": "python",
   "nbconvert_exporter": "python",
   "pygments_lexer": "ipython3",
   "version": "3.9.7"
  }
 },
 "nbformat": 4,
 "nbformat_minor": 5
}
