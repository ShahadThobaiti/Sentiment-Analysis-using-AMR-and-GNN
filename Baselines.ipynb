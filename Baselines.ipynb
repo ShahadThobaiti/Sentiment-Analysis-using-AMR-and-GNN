{
 "cells": [
  {
   "cell_type": "markdown",
   "metadata": {
    "colab_type": "text",
    "id": "view-in-github"
   },
   "source": [
    "<a href=\"https://colab.research.google.com/github/ShahadThobaiti/SR4NLP_project/blob/main/Baselines.ipynb\" target=\"_parent\"><img src=\"https://colab.research.google.com/assets/colab-badge.svg\" alt=\"Open In Colab\"/></a>"
   ]
  },
  {
   "cell_type": "markdown",
   "metadata": {
    "id": "Uv5059JEZpHt"
   },
   "source": [
    "Install dependencies:"
   ]
  },
  {
   "cell_type": "code",
   "execution_count": 1,
   "metadata": {
    "colab": {
     "base_uri": "https://localhost:8080/"
    },
    "id": "mmkklnO8Zlx1",
    "outputId": "2edf1341-bdd8-4fe1-eee0-a191687a3c40"
   },
   "outputs": [
    {
     "name": "stdout",
     "output_type": "stream",
     "text": [
      "Requirement already satisfied: sklearn in /usr/local/lib/python3.7/dist-packages (0.0)\n",
      "Requirement already satisfied: xgboost in /usr/local/lib/python3.7/dist-packages (0.90)\n",
      "Requirement already satisfied: nltk in /usr/local/lib/python3.7/dist-packages (3.2.5)\n",
      "Requirement already satisfied: scikit-learn in /usr/local/lib/python3.7/dist-packages (from sklearn) (1.0.2)\n",
      "Requirement already satisfied: numpy in /usr/local/lib/python3.7/dist-packages (from xgboost) (1.21.6)\n",
      "Requirement already satisfied: scipy in /usr/local/lib/python3.7/dist-packages (from xgboost) (1.4.1)\n",
      "Requirement already satisfied: six in /usr/local/lib/python3.7/dist-packages (from nltk) (1.15.0)\n",
      "Requirement already satisfied: joblib>=0.11 in /usr/local/lib/python3.7/dist-packages (from scikit-learn->sklearn) (1.1.0)\n",
      "Requirement already satisfied: threadpoolctl>=2.0.0 in /usr/local/lib/python3.7/dist-packages (from scikit-learn->sklearn) (3.1.0)\n"
     ]
    }
   ],
   "source": [
    "pip install sklearn xgboost nltk"
   ]
  },
  {
   "cell_type": "code",
   "execution_count": 2,
   "metadata": {
    "colab": {
     "base_uri": "https://localhost:8080/"
    },
    "id": "tm04ZIBcZ1W0",
    "outputId": "4d3686cd-4233-4f4f-df38-a68f54e9bb28"
   },
   "outputs": [
    {
     "name": "stdout",
     "output_type": "stream",
     "text": [
      "[nltk_data] Downloading package wordnet to /root/nltk_data...\n",
      "[nltk_data]   Unzipping corpora/wordnet.zip.\n",
      "[nltk_data] Downloading package averaged_perceptron_tagger to\n",
      "[nltk_data]     /root/nltk_data...\n",
      "[nltk_data]   Unzipping taggers/averaged_perceptron_tagger.zip.\n",
      "[nltk_data] Downloading package punkt to /root/nltk_data...\n",
      "[nltk_data]   Unzipping tokenizers/punkt.zip.\n",
      "[nltk_data] Downloading package omw-1.4 to /root/nltk_data...\n",
      "[nltk_data]   Unzipping corpora/omw-1.4.zip.\n",
      "[nltk_data] Downloading package stopwords to /root/nltk_data...\n",
      "[nltk_data]   Unzipping corpora/stopwords.zip.\n"
     ]
    }
   ],
   "source": [
    "# Download other NLTK dependencies before the first run\n",
    "import nltk\n",
    "nltk.download('wordnet')\n",
    "nltk.download('averaged_perceptron_tagger')\n",
    "nltk.download('punkt')\n",
    "nltk.download('omw-1.4')\n",
    "nltk.download('stopwords')\n",
    "\n",
    "# import all libraries used below\n",
    "import csv, re, string\n",
    "from sklearn.feature_extraction.text import CountVectorizer,TfidfTransformer\n",
    "from sklearn.model_selection import train_test_split\n",
    "from sklearn.linear_model import LogisticRegression\n",
    "from sklearn.ensemble import RandomForestClassifier, GradientBoostingRegressor\n",
    "from sklearn.metrics import accuracy_score,f1_score\n",
    "from sklearn.tree import DecisionTreeClassifier\n",
    "from xgboost import XGBClassifier\n",
    "from nltk import pos_tag\n",
    "from nltk.stem import PorterStemmer\n",
    "from nltk.tokenize import sent_tokenize, word_tokenize\n",
    "from nltk.corpus import stopwords, wordnet\n",
    "from nltk.stem import WordNetLemmatizer"
   ]
  },
  {
   "cell_type": "markdown",
   "metadata": {
    "id": "Iai-lPkfaGkL"
   },
   "source": [
    "Lemmatize tweets for baseline models."
   ]
  },
  {
   "cell_type": "code",
   "execution_count": 8,
   "metadata": {
    "id": "vF3a6iZLaNNX"
   },
   "outputs": [],
   "source": [
    "def lemmatizer(tweet):\n",
    "\t\"\"\"\n",
    "\t\tremove stopwords, uncommon words, unknownwords etc.\n",
    "\t\"\"\"\n",
    "\ttoken_words = pos_tag(word_tokenize(tweet))\n",
    "\tlemmatizer = WordNetLemmatizer()\n",
    "\troot_words = []\n",
    "\tfor word, tag in token_words:\n",
    "\t\tif not wordnet.synsets(word):\n",
    "\t\t\tcontinue\n",
    "\t\tif tag.startswith('NN'):\n",
    "\t\t\tword_lematizer = lemmatizer.lemmatize(word, pos='n')\n",
    "\t\telif tag.startswith('VB'):\n",
    "\t\t\tword_lematizer = lemmatizer.lemmatize(word, pos='v')\n",
    "\t\telif tag.startswith('JJ'):\n",
    "\t\t\tword_lematizer = lemmatizer.lemmatize(word, pos='a')\n",
    "\t\telif tag.startswith('R'):\n",
    "\t\t\tword_lematizer = lemmatizer.lemmatize(word, pos='r')\n",
    "\t\telse:\n",
    "\t\t\tword_lematizer = lemmatizer.lemmatize(word)\n",
    "\n",
    "\t\troot_words.append(word_lematizer)\n",
    "\n",
    "\tfiltered_words = [word.lower() for word in root_words if word not in set(stopwords.words('english'))]\n",
    "\treturn \" \".join(filtered_words)\n",
    "\n",
    "def preprocess_text(tweet):\n",
    "\t\"\"\"\n",
    "\t\tremove punctuations, emojis, tabs, spaces, new lines, etc.\n",
    "\t\"\"\"\n",
    "\ttext = re.sub('@[^\\s]+|[hH]ttps\\S\\S\\St.co(.)*|[0-9]|[^\\w\\s]','',tweet)\n",
    "\t# Regular expression to handle emojis, emoticons, and extraneous symbols \n",
    "\ttext = text.replace(\"\\n\",\" \")\n",
    "\ttext = text.translate(str.maketrans({a:None for a in string.punctuation}))\n",
    "\ttext = text.lower()\n",
    "\treturn lemmatizer(tweet)"
   ]
  },
  {
   "cell_type": "markdown",
   "metadata": {
    "id": "ibF8x8W9ab7-"
   },
   "source": [
    "Load tweets and lemmatize them."
   ]
  },
  {
   "cell_type": "code",
   "execution_count": 5,
   "metadata": {
    "colab": {
     "base_uri": "https://localhost:8080/"
    },
    "id": "xuvnLCfOanrH",
    "outputId": "405a2e06-c16a-4999-c5da-d4225b7618b3"
   },
   "outputs": [
    {
     "name": "stdout",
     "output_type": "stream",
     "text": [
      "Drive already mounted at /content/drive; to attempt to forcibly remount, call drive.mount(\"/content/drive\", force_remount=True).\n",
      "Saudi Arabia acquired a 8.2% stake in Carnival (approximately 43.5 million shares). The shares were at very low prices and since the beginning of the year the stock has lost 81% of the value since the #cruise industry is struggling with the #coronav 0\n",
      "1600 1600 400 400\n"
     ]
    }
   ],
   "source": [
    "from google.colab import drive\n",
    "drive.mount('/content/drive')\n",
    "with open('train.csv', 'r') as csv_file, open('test.csv', 'r') as csv_file2:\n",
    "        csv_reader = csv.reader(csv_file, delimiter=',')\n",
    "        csv_reader2 = csv.reader(csv_file2, delimiter=',')\n",
    "        next(csv_reader, None)\n",
    "        next(csv_reader2, None)\n",
    "        x_train, y_train, x_test, y_test = [], [], [], []\n",
    "        for row in csv_reader:\n",
    "            x_train.append(preprocess_text(row[2]))\n",
    "            if row[1] == 'Positive':\n",
    "                y_train.append(2)\n",
    "            elif row[1] == 'Negative':\n",
    "                y_train.append(0)\n",
    "            else:\n",
    "                y_train.append(1)\n",
    "\n",
    "        for row in csv_reader2:\n",
    "            x_test.append(preprocess_text(row[2]))\n",
    "            if row[1] == 'Positive':\n",
    "                y_test.append(2)\n",
    "            elif row[1] == 'Negative':\n",
    "                y_test.append(0)\n",
    "            else:\n",
    "                y_test.append(1)\n",
    "\n",
    "        print(x_train[1],y_train[1])\n",
    "        print(len(x_train),len(y_train),len(x_test),len(y_test))"
   ]
  },
  {
   "cell_type": "markdown",
   "metadata": {
    "id": "TzaIyR_navYm"
   },
   "source": [
    "Vectorize lemmatized tweets."
   ]
  },
  {
   "cell_type": "code",
   "execution_count": 6,
   "metadata": {
    "id": "TF8doLA7aqLp"
   },
   "outputs": [],
   "source": [
    "count_vect = CountVectorizer()\n",
    "transformer = TfidfTransformer(norm='l2',sublinear_tf=True)\n",
    "x_train_counts = count_vect.fit_transform(x_train)\n",
    "x_train_tfidf = transformer.fit_transform(x_train_counts)\n",
    "x_test_counts = count_vect.transform(x_test)\n",
    "x_test_tfidf = transformer.transform(x_test_counts)"
   ]
  },
  {
   "cell_type": "markdown",
   "metadata": {
    "id": "GDU0q1bbbI63"
   },
   "source": [
    "Build Baseline classifiers and regressors."
   ]
  },
  {
   "cell_type": "code",
   "execution_count": 7,
   "metadata": {
    "colab": {
     "base_uri": "https://localhost:8080/"
    },
    "id": "hRMX4nOrbO2K",
    "outputId": "4fa4787a-4a78-4d96-e71b-30f1a3e1195a"
   },
   "outputs": [
    {
     "name": "stdout",
     "output_type": "stream",
     "text": [
      "['Baseline Models', 'Accuracy', 'F1-Score', ['Decision Tree', 38.75, 0.3875], ['Random Forest', 51.24999999999999, 0.5125], ['Logistic Regression', 51.74999999999999, 0.5175], ['Gradient Boost Regression', 33.0, 0.33], ['XGBoost Regression', 48.5, 0.485]]\n"
     ]
    }
   ],
   "source": [
    "evaluations = [\"Baseline Models\", \"Accuracy\", \"F1-Score\"]\n",
    "\"\"\" baseline classifier - Decision Tree \"\"\"\n",
    "dtmodel = DecisionTreeClassifier(criterion='entropy', random_state=1)\n",
    "dtmodel.fit(x_train_tfidf,y_train)\n",
    "predictions = dtmodel.predict(x_test_tfidf)\n",
    "f1 = f1_score(y_test,predictions,average='micro')\n",
    "evaluations.append([\"Decision Tree\",accuracy_score(y_test,predictions)*100,f1])\n",
    "\n",
    "\"\"\" baseline classifier - Random Forest \"\"\"\n",
    "model = RandomForestClassifier(n_estimators=200)\n",
    "model.fit(x_train_tfidf,y_train)\n",
    "predictions = model.predict(x_test_tfidf)\n",
    "f1 = f1_score(y_test,predictions,average='micro')\n",
    "evaluations.append([\"Random Forest\",accuracy_score(y_test,predictions)*100,f1])\n",
    "\n",
    "\"\"\" baseline regressor - Logistic Regression \"\"\"\n",
    "logmodel = LogisticRegression(random_state=400)\n",
    "logmodel.fit(x_train_tfidf,y_train)\n",
    "predictions = logmodel.predict(x_test_tfidf)\n",
    "f1 = f1_score(y_test,predictions.round(),average='micro')\n",
    "evaluations.append([\"Logistic Regression\",accuracy_score(y_test,predictions.round())*100,f1])\n",
    "\n",
    "# \"\"\" baseline regressor - Gradient Boost Regressor \"\"\"\n",
    "gbmodel= GradientBoostingRegressor(n_estimators= 550, learning_rate= 0.1, max_depth= 3)\n",
    "gbmodel.fit(x_train_tfidf,y_train)\n",
    "predictions = gbmodel.predict(x_test_tfidf)\n",
    "f1 = f1_score(y_test,predictions.round(),average='micro')\n",
    "evaluations.append([\"Gradient Boost Regression\",accuracy_score(y_test,predictions.round())*100,f1])\n",
    "\n",
    "# \"\"\" baseline regressor - XGBoost \"\"\"\n",
    "xgbmodel=XGBClassifier(random_state=22,learning_rate=0.9)\n",
    "xgbmodel.fit(x_train_tfidf,y_train)\n",
    "predictions = xgbmodel.predict(x_test_tfidf)\n",
    "f1 = f1_score(y_test,predictions.round(),average='micro')\n",
    "evaluations.append([\"XGBoost Regression\",accuracy_score(y_test,predictions.round())*100,f1])\n",
    "\n",
    "print(evaluations)"
   ]
  },
  {
   "cell_type": "markdown",
   "metadata": {},
   "source": [
    "## BERT Model"
   ]
  },
  {
   "cell_type": "code",
   "execution_count": 1,
   "metadata": {},
   "outputs": [],
   "source": [
    "from bert_sklearn import BertClassifier\n",
    "import pandas as pd\n",
    "from sklearn.metrics import accuracy_score, f1_score\n",
    "import matplotlib.pyplot as plt\n",
    "import seaborn as sns\n",
    "from sklearn.metrics import ConfusionMatrixDisplay\n",
    "from sklearn.metrics import classification_report, accuracy_score, confusion_matrix\n",
    "\n",
    "\n"
   ]
  },
  {
   "cell_type": "code",
   "execution_count": 2,
   "metadata": {},
   "outputs": [],
   "source": [
    "train = pd.read_csv('train.csv')\n",
    "test = pd.read_csv('test.csv')"
   ]
  },
  {
   "cell_type": "code",
   "execution_count": 3,
   "metadata": {},
   "outputs": [],
   "source": [
    "X_train = list(train['processed tweet'])\n",
    "y_train = list(train['Sentiment'])\n",
    "\n",
    "X_test =list(test['processed tweet'])\n",
    "y_test = list(test['Sentiment'])\n"
   ]
  },
  {
   "cell_type": "code",
   "execution_count": 4,
   "metadata": {},
   "outputs": [
    {
     "name": "stdout",
     "output_type": "stream",
     "text": [
      "Building sklearn text classifier...\n",
      "Loading bert-base-uncased model...\n",
      "Defaulting to linear classifier/regressor\n",
      "Loading Pytorch checkpoint\n",
      "train data size: 1440, validation data size: 160\n"
     ]
    },
    {
     "name": "stderr",
     "output_type": "stream",
     "text": [
      "Training  :   0%|                                        | 0/45 [00:00<?, ?it/s]/opt/homebrew/Caskroom/miniforge/base/lib/python3.9/site-packages/bert_sklearn/model/pytorch_pretrained/optimization.py:275: UserWarning: This overload of add_ is deprecated:\n",
      "\tadd_(Number alpha, Tensor other)\n",
      "Consider using one of the following signatures instead:\n",
      "\tadd_(Tensor other, *, Number alpha) (Triggered internally at  /Users/distiller/project/pytorch/torch/csrc/utils/python_arg_parser.cpp:1055.)\n",
      "  next_m.mul_(beta1).add_(1 - beta1, grad)\n",
      "Training  : 100%|████████████████████| 45/45 [06:16<00:00,  8.38s/it, loss=1.08]\n",
      "Validating: 100%|███████████████████████████████| 20/20 [00:36<00:00,  1.81s/it]"
     ]
    },
    {
     "name": "stdout",
     "output_type": "stream",
     "text": [
      "Epoch 1, Train loss: 1.0832, Val loss: 1.0804, Val accy: 44.38%\n"
     ]
    },
    {
     "name": "stderr",
     "output_type": "stream",
     "text": [
      "\n",
      "Training  : 100%|███████████████████| 45/45 [06:16<00:00,  8.36s/it, loss=0.956]\n",
      "Validating: 100%|███████████████████████████████| 20/20 [00:36<00:00,  1.81s/it]"
     ]
    },
    {
     "name": "stdout",
     "output_type": "stream",
     "text": [
      "Epoch 2, Train loss: 0.9560, Val loss: 0.9960, Val accy: 50.62%\n"
     ]
    },
    {
     "name": "stderr",
     "output_type": "stream",
     "text": [
      "\n",
      "Training  : 100%|███████████████████| 45/45 [06:15<00:00,  8.35s/it, loss=0.698]\n",
      "Validating: 100%|███████████████████████████████| 20/20 [00:36<00:00,  1.80s/it]"
     ]
    },
    {
     "name": "stdout",
     "output_type": "stream",
     "text": [
      "Epoch 3, Train loss: 0.6978, Val loss: 1.0654, Val accy: 53.75%\n"
     ]
    },
    {
     "name": "stderr",
     "output_type": "stream",
     "text": [
      "\n"
     ]
    },
    {
     "data": {
      "text/plain": [
       "BertClassifier(do_lower_case=True,\n",
       "               label_list=array(['Negative', 'Neutral', 'Positive'], dtype='<U8'))"
      ]
     },
     "execution_count": 4,
     "metadata": {},
     "output_type": "execute_result"
    }
   ],
   "source": [
    "model = BertClassifier()\n",
    "model.fit(X_train, y_train)"
   ]
  },
  {
   "cell_type": "code",
   "execution_count": 5,
   "metadata": {},
   "outputs": [
    {
     "name": "stderr",
     "output_type": "stream",
     "text": [
      "Predicting: 100%|███████████████████████████████| 50/50 [00:51<00:00,  1.02s/it]\n"
     ]
    }
   ],
   "source": [
    "predictions = model.predict(X_test)"
   ]
  },
  {
   "cell_type": "code",
   "execution_count": 6,
   "metadata": {},
   "outputs": [],
   "source": [
    "f1 = f1_score(y_test, predictions, average='micro')*100\n",
    "accuracy = accuracy_score(y_test, predictions)*100"
   ]
  },
  {
   "cell_type": "code",
   "execution_count": 7,
   "metadata": {},
   "outputs": [
    {
     "name": "stdout",
     "output_type": "stream",
     "text": [
      "Accuracy = 58.25\n",
      "F1 score = 58.25\n"
     ]
    }
   ],
   "source": [
    "print('Accuracy = %.2f'% accuracy)\n",
    "print('F1 score = %.2f'% f1)"
   ]
  },
  {
   "cell_type": "code",
   "execution_count": 8,
   "metadata": {},
   "outputs": [
    {
     "data": {
      "text/plain": [
       "0.1"
      ]
     },
     "execution_count": 8,
     "metadata": {},
     "output_type": "execute_result"
    }
   ],
   "source": [
    "model.validation_fraction"
   ]
  },
  {
   "cell_type": "code",
   "execution_count": 9,
   "metadata": {},
   "outputs": [
    {
     "data": {
      "text/plain": [
       "{'bert_config_json': None,\n",
       " 'bert_model': 'bert-base-uncased',\n",
       " 'bert_vocab': None,\n",
       " 'do_lower_case': True,\n",
       " 'epochs': 3,\n",
       " 'eval_batch_size': 8,\n",
       " 'fp16': False,\n",
       " 'from_tf': False,\n",
       " 'gradient_accumulation_steps': 1,\n",
       " 'ignore_label': None,\n",
       " 'label_list': array(['Negative', 'Neutral', 'Positive'], dtype='<U8'),\n",
       " 'learning_rate': 2e-05,\n",
       " 'local_rank': -1,\n",
       " 'logfile': 'bert_sklearn.log',\n",
       " 'loss_scale': 0,\n",
       " 'max_seq_length': 128,\n",
       " 'num_mlp_hiddens': 500,\n",
       " 'num_mlp_layers': 0,\n",
       " 'random_state': 42,\n",
       " 'restore_file': None,\n",
       " 'train_batch_size': 32,\n",
       " 'use_cuda': True,\n",
       " 'validation_fraction': 0.1,\n",
       " 'warmup_proportion': 0.1}"
      ]
     },
     "execution_count": 9,
     "metadata": {},
     "output_type": "execute_result"
    }
   ],
   "source": [
    "model.get_params()"
   ]
  },
  {
   "cell_type": "code",
   "execution_count": 30,
   "metadata": {},
   "outputs": [
    {
     "data": {
      "image/png": "[encoded data removed]",
      "text/plain": [
       "<Figure size 432x288 with 2 Axes>"
      ]
     },
     "metadata": {
      "needs_background": "light"
     },
     "output_type": "display_data"
    }
   ],
   "source": [
    "cm = confusion_matrix(predictions, y_test)\n",
    "class_labels = ['Negative', 'Neutral', 'Positive']\n",
    "disp = ConfusionMatrixDisplay(confusion_matrix = cm, display_labels = class_labels)\n",
    "disp.plot(cmap=plt.cm.Blues)\n",
    "plt.title('BERT Classifier')\n",
    "plt.savefig(\"BERT_cm.png\", dpi = 300)\n",
    "plt.show()\n",
    "\n"
   ]
  },
  {
   "cell_type": "code",
   "execution_count": null,
   "metadata": {},
   "outputs": [],
   "source": []
  }
 ],
 "metadata": {
  "colab": {
   "authorship_tag": "ABX9TyPplq5o9B6pp9JmaXv5B2M1",
   "collapsed_sections": [],
   "include_colab_link": true,
   "name": "Baselines.ipynb",
   "provenance": []
  },
  "kernelspec": {
   "display_name": "Python 3 (ipykernel)",
   "language": "python",
   "name": "python3"
  },
  "language_info": {
   "codemirror_mode": {
    "name": "ipython",
    "version": 3
   },
   "file_extension": ".py",
   "mimetype": "text/x-python",
   "name": "python",
   "nbconvert_exporter": "python",
   "pygments_lexer": "ipython3",
   "version": "3.9.7"
  }
 },
 "nbformat": 4,
 "nbformat_minor": 4
}
