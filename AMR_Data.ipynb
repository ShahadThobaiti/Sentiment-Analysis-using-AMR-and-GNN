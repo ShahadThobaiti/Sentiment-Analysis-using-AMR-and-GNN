{
 "cells": [
  {
   "cell_type": "code",
   "execution_count": 1,
   "id": "6a0df73a-edff-42f1-aaa5-3de6bdbbf269",
   "metadata": {},
   "outputs": [],
   "source": [
    "from typing import Tuple, List, Iterable\n",
    "from pydot import Dot, graph_from_dot_data, Edge\n",
    "from graphviz.graphs import BaseGraph\n",
    "from graphviz import Source\n",
    "import amrlib\n",
    "from amrlib.graph_processing.amr_plot import AMRPlot\n",
    "import numpy as np\n",
    "import pandas as pd\n",
    "from tqdm import tqdm "
   ]
  },
  {
   "cell_type": "code",
   "execution_count": 2,
   "id": "0e779eaf-51f6-4b21-b9eb-a534295e90b4",
   "metadata": {},
   "outputs": [],
   "source": [
    "def edge_to_node_ids(edge: Edge) -> Tuple[str, str]:\n",
    "    \"\"\"Returns the node id pair for the edge object\"\"\"\n",
    "    return (edge.get_source(), edge.get_destination())\n",
    "\n",
    "\n",
    "def get_graph_dot_obj(graph_spec) -> List[Dot]:\n",
    "    \"\"\"Get a dot (graphs) object list from a variety of possible sources (postelizing inputs here)\"\"\"\n",
    "    _original_graph_spec = graph_spec\n",
    "    if isinstance(graph_spec, (BaseGraph, Source)):\n",
    "        # get the source (str) from a graph object\n",
    "        graph_spec = graph_spec.source\n",
    "    if isinstance(graph_spec, str):\n",
    "        # get a dot-graph from dot string data\n",
    "        graph_spec = graph_from_dot_data(graph_spec)\n",
    "    # make sure we have a list of Dot objects now\n",
    "    assert isinstance(graph_spec, list) and all(\n",
    "        isinstance(x, Dot) for x in graph_spec\n",
    "    ), (\n",
    "        f\"Couldn't get a proper dot object list from: {_original_graph_spec}. \"\n",
    "        f\"At this point, we should have a list of Dot objects, but was: {graph_spec}\"\n",
    "    )\n",
    "    return graph_spec\n",
    "\n",
    "\n",
    "def get_edges(graph_spec, postprocess_edges=edge_to_node_ids):\n",
    "    \"\"\"Get a list of edges for a given graph (or list of lists thereof).\n",
    "    If ``postprocess_edges`` is ``None`` the function will return ``pydot.Edge`` objects from\n",
    "    which you can extract any information you want.\n",
    "    By default though, it is set to extract the node pairs for the edges, and you can\n",
    "    replace with any function that takes ``pydot.Edge`` as an input.\n",
    "    \"\"\"\n",
    "    graphs = get_graph_dot_obj(graph_spec)\n",
    "    n_graphs = len(graphs)\n",
    "\n",
    "    if n_graphs > 1:\n",
    "        return [get_edges(graph, postprocess_edges) for graph in graphs]\n",
    "    elif n_graphs == 0:\n",
    "        raise ValueError(f\"Your input had no graphs\")\n",
    "    else:\n",
    "        graph = graphs[0]\n",
    "        edges = graph.get_edges()\n",
    "        if callable(postprocess_edges):\n",
    "            edges = list(map(postprocess_edges, edges))\n",
    "        return edges\n",
    "    \n",
    "#cite: https://stackoverflow.com/questions/47426249/finding-list-of-edges-in-graphviz-in-python    "
   ]
  },
  {
   "cell_type": "code",
   "execution_count": 3,
   "id": "f075e61c-bfb9-41f3-8746-39e40012285c",
   "metadata": {},
   "outputs": [],
   "source": [
    "def get_adj_matrix(graph):\n",
    "    AP = AMRPlot()\n",
    "    AP.build_from_graph(entry = graph)\n",
    "\n",
    "\n",
    "    edges = tuple(get_edges(AP.graph))\n",
    "\n",
    "    node_names, adj_idx = np.unique(edges, return_inverse=True)\n",
    "    adj_idx = adj_idx.reshape(-1, 2)\n",
    "    adj_matrix = np.zeros((len(node_names),)*2)\n",
    "    adj_matrix[adj_idx[:, 0], adj_idx[:, 1]] = 1\n",
    "    adj_matrix\n",
    "    #cite: https://stackoverflow.com/questions/21324774/convert-non-numeric-tuples-to-numpy-matrix\n",
    "    return adj_matrix"
   ]
  },
  {
   "cell_type": "code",
   "execution_count": 13,
   "id": "5582c50f-b1c5-4ecd-b2da-734f84a63f7d",
   "metadata": {},
   "outputs": [],
   "source": [
    "X = ['Text classification is an important and classical problem in natural language processing. There have been a number of studies that applied convolutional neural networks (convolution on regular grid, e.g., sequence) to classification',\n",
    "    'In this work, we propose to use graph convolutional networks for text classification']"
   ]
  },
  {
   "cell_type": "code",
   "execution_count": 14,
   "id": "a0823b0e-ffc8-4362-9432-6e70707810ec",
   "metadata": {},
   "outputs": [
    {
     "data": {
      "text/plain": [
       "['Text classification is an important and classical problem in natural language processing. There have been a number of studies that applied convolutional neural networks (convolution on regular grid, e.g., sequence) to classification',\n",
       " 'In this work, we propose to use graph convolutional networks for text classification']"
      ]
     },
     "execution_count": 14,
     "metadata": {},
     "output_type": "execute_result"
    }
   ],
   "source": [
    "X"
   ]
  },
  {
   "cell_type": "code",
   "execution_count": 15,
   "id": "262e78f1-565d-4b3c-8b57-835cc6370d5e",
   "metadata": {},
   "outputs": [
    {
     "name": "stderr",
     "output_type": "stream",
     "text": [
      "100%|███████████████████████████████████████████████████████████████████████████| 2/2 [00:21<00:00, 10.67s/it]\n"
     ]
    }
   ],
   "source": [
    "stog = amrlib.load_stog_model()\n",
    "X_matrices = []\n",
    "for txt in tqdm(X):\n",
    "    graph = stog.parse_sents([txt], add_metadata = False)[0]\n",
    "    X_matrices.append(get_adj_matrix(graph)) \n",
    "    \n"
   ]
  },
  {
   "cell_type": "code",
   "execution_count": 16,
   "id": "283e3ef9-8be9-46a7-a660-69a5887742ad",
   "metadata": {},
   "outputs": [
    {
     "data": {
      "text/plain": [
       "'In this work, we propose to use graph convolutional networks for text classification'"
      ]
     },
     "execution_count": 16,
     "metadata": {},
     "output_type": "execute_result"
    }
   ],
   "source": [
    "txt"
   ]
  },
  {
   "cell_type": "code",
   "execution_count": 17,
   "id": "f0453e7b-a7c8-461b-8e56-143101be834d",
   "metadata": {},
   "outputs": [
    {
     "name": "stdout",
     "output_type": "stream",
     "text": [
      "(p / propose-01\n",
      "      :ARG0 (w / we)\n",
      "      :ARG1 (u / use-01\n",
      "            :ARG0 w\n",
      "            :ARG1 (n / network\n",
      "                  :mod (c / convolutional\n",
      "                        :mod (g / graph)))\n",
      "            :ARG2 (c2 / classify-01\n",
      "                  :ARG1 (t / text)))\n",
      "      :subevent-of (w2 / work-01\n",
      "            :mod (t2 / this)))\n"
     ]
    }
   ],
   "source": [
    "print(graph)"
   ]
  },
  {
   "cell_type": "code",
   "execution_count": 18,
   "id": "145fcb32-2585-4275-be8a-b60a5cc7f973",
   "metadata": {},
   "outputs": [
    {
     "name": "stdout",
     "output_type": "stream",
     "text": [
      "[[0. 0. 1. 0. 0. 0. 0. 0. 0. 0.]\n",
      " [0. 0. 0. 0. 0. 1. 0. 0. 0. 0.]\n",
      " [0. 0. 0. 0. 0. 0. 0. 0. 0. 0.]\n",
      " [1. 0. 0. 0. 0. 0. 0. 0. 0. 0.]\n",
      " [0. 0. 0. 0. 0. 0. 0. 1. 1. 1.]\n",
      " [0. 0. 0. 0. 0. 0. 0. 0. 0. 0.]\n",
      " [0. 0. 0. 0. 0. 0. 0. 0. 0. 0.]\n",
      " [0. 1. 0. 1. 0. 0. 0. 0. 1. 0.]\n",
      " [0. 0. 0. 0. 0. 0. 0. 0. 0. 0.]\n",
      " [0. 0. 0. 0. 0. 0. 1. 0. 0. 0.]]\n"
     ]
    }
   ],
   "source": [
    "print(X_matrices[-1])"
   ]
  },
  {
   "cell_type": "code",
   "execution_count": 12,
   "id": "b68c2a24-97bd-4fd2-ba15-eb5ceba89313",
   "metadata": {},
   "outputs": [],
   "source": [
    "# padding to have unified matrix sizes? - is it needed?\n",
    "# What are the inputs for GCN."
   ]
  },
  {
   "cell_type": "code",
   "execution_count": null,
   "id": "722de405-0952-46ee-958c-4cce7aa7359a",
   "metadata": {},
   "outputs": [],
   "source": []
  }
 ],
 "metadata": {
  "kernelspec": {
   "display_name": "Python 3 (ipykernel)",
   "language": "python",
   "name": "python3"
  },
  "language_info": {
   "codemirror_mode": {
    "name": "ipython",
    "version": 3
   },
   "file_extension": ".py",
   "mimetype": "text/x-python",
   "name": "python",
   "nbconvert_exporter": "python",
   "pygments_lexer": "ipython3",
   "version": "3.9.7"
  }
 },
 "nbformat": 4,
 "nbformat_minor": 5
}
