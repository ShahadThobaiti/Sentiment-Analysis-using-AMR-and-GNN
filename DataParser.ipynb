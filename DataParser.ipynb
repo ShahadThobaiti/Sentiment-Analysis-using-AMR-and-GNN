{
  "nbformat": 4,
  "nbformat_minor": 0,
  "metadata": {
    "colab": {
      "name": "DataParser.ipynb",
      "provenance": []
    },
    "kernelspec": {
      "name": "python3",
      "display_name": "Python 3"
    },
    "language_info": {
      "name": "python"
    }
  },
  "cells": [
    {
      "cell_type": "code",
      "execution_count": 11,
      "metadata": {
        "id": "r0BghKm3gPHV",
        "colab": {
          "base_uri": "https://localhost:8080/"
        },
        "outputId": "c7599579-bfad-4165-b286-0b543bed4a63"
      },
      "outputs": [
        {
          "output_type": "stream",
          "name": "stdout",
          "text": [
            "Looking in links: https://data.pyg.org/whl/torch-1.11.0+cu113.html\n",
            "Requirement already satisfied: torch-scatter in /usr/local/lib/python3.7/dist-packages (2.0.9)\n",
            "Looking in links: https://data.pyg.org/whl/torch-1.11.0+cu113.html\n",
            "Requirement already satisfied: torch-sparse in /usr/local/lib/python3.7/dist-packages (0.6.13)\n",
            "Requirement already satisfied: scipy in /usr/local/lib/python3.7/dist-packages (from torch-sparse) (1.4.1)\n",
            "Requirement already satisfied: numpy>=1.13.3 in /usr/local/lib/python3.7/dist-packages (from scipy->torch-sparse) (1.21.6)\n",
            "Requirement already satisfied: torch-geometric in /usr/local/lib/python3.7/dist-packages (2.0.4)\n",
            "Requirement already satisfied: tqdm in /usr/local/lib/python3.7/dist-packages (from torch-geometric) (4.64.0)\n",
            "Requirement already satisfied: requests in /usr/local/lib/python3.7/dist-packages (from torch-geometric) (2.23.0)\n",
            "Requirement already satisfied: scipy in /usr/local/lib/python3.7/dist-packages (from torch-geometric) (1.4.1)\n",
            "Requirement already satisfied: jinja2 in /usr/local/lib/python3.7/dist-packages (from torch-geometric) (2.11.3)\n",
            "Requirement already satisfied: numpy in /usr/local/lib/python3.7/dist-packages (from torch-geometric) (1.21.6)\n",
            "Requirement already satisfied: scikit-learn in /usr/local/lib/python3.7/dist-packages (from torch-geometric) (1.0.2)\n",
            "Requirement already satisfied: pandas in /usr/local/lib/python3.7/dist-packages (from torch-geometric) (1.3.5)\n",
            "Requirement already satisfied: pyparsing in /usr/local/lib/python3.7/dist-packages (from torch-geometric) (3.0.8)\n",
            "Requirement already satisfied: MarkupSafe>=0.23 in /usr/local/lib/python3.7/dist-packages (from jinja2->torch-geometric) (2.0.1)\n",
            "Requirement already satisfied: python-dateutil>=2.7.3 in /usr/local/lib/python3.7/dist-packages (from pandas->torch-geometric) (2.8.2)\n",
            "Requirement already satisfied: pytz>=2017.3 in /usr/local/lib/python3.7/dist-packages (from pandas->torch-geometric) (2022.1)\n",
            "Requirement already satisfied: six>=1.5 in /usr/local/lib/python3.7/dist-packages (from python-dateutil>=2.7.3->pandas->torch-geometric) (1.15.0)\n",
            "Requirement already satisfied: certifi>=2017.4.17 in /usr/local/lib/python3.7/dist-packages (from requests->torch-geometric) (2021.10.8)\n",
            "Requirement already satisfied: urllib3!=1.25.0,!=1.25.1,<1.26,>=1.21.1 in /usr/local/lib/python3.7/dist-packages (from requests->torch-geometric) (1.24.3)\n",
            "Requirement already satisfied: idna<3,>=2.5 in /usr/local/lib/python3.7/dist-packages (from requests->torch-geometric) (2.10)\n",
            "Requirement already satisfied: chardet<4,>=3.0.2 in /usr/local/lib/python3.7/dist-packages (from requests->torch-geometric) (3.0.4)\n",
            "Requirement already satisfied: joblib>=0.11 in /usr/local/lib/python3.7/dist-packages (from scikit-learn->torch-geometric) (1.1.0)\n",
            "Requirement already satisfied: threadpoolctl>=2.0.0 in /usr/local/lib/python3.7/dist-packages (from scikit-learn->torch-geometric) (3.1.0)\n"
          ]
        }
      ],
      "source": [
        "# to do\n",
        "def get_edges_list_with_labels(tweets):\n",
        "    return [('\"t/test-01\"', '\"s/system\"', '\":ARG1\"'),\n",
        " ('\"t/test-01\"', '\"t2/this\"', '\":domain\"')]\n",
        "\n",
        "\n",
        "\n",
        "!pip install torch-scatter -f https://data.pyg.org/whl/torch-1.11.0+cu113.html\n",
        "!pip install torch-sparse -f https://data.pyg.org/whl/torch-1.11.0+cu113.html\n",
        "!pip install torch-geometric\n",
        "import torch\n",
        "from torch_geometric.data import Data"
      ]
    },
    {
      "cell_type": "code",
      "source": [
        "class DataParser:\n",
        "    edge_label_to_index = {}\n",
        "    word_to_index = {}\n",
        "\n",
        "\n",
        "    def build_dictionaries(self, tweets_list):\n",
        "        for tweet in tweets_list:\n",
        "            edges_list = get_edges_list_with_labels(tweet)\n",
        "            for edge in edges_list:\n",
        "                source = edge[0].split('/')[1]\n",
        "                target = edge[1].split('/')[1]\n",
        "                edge_label = edge[2]\n",
        "                if source not in self.word_to_index:\n",
        "                    self.word_to_index[source] = len(self.word_to_index)\n",
        "                if target not in self.word_to_index:\n",
        "                    self.word_to_index[target] = len(self.word_to_index)\n",
        "                if edge_label not in self.edge_label_to_index:\n",
        "                    self.edge_label_to_index[edge_label] = len(self.edge_label_to_index)\n",
        "\n",
        "\n",
        "    def build_data_graph(self, tweet, target):\n",
        "        word_to_node_number = {}\n",
        "        edges_list = get_edges_list_with_labels(tweet)\n",
        "        sources = [0] * len(edges_list)\n",
        "        targets = [0] * len(edges_list)\n",
        "        edge_index = [sources, targets]\n",
        "        edge_attr = []\n",
        "        x = [] \n",
        "        i = 0\n",
        "\n",
        "        for edge in edges_list:\n",
        "\n",
        "            source = edge[0].split('/')[0]\n",
        "            source_word = edge[0].split('/')[1]\n",
        "            target = edge[1].split('/')[0]\n",
        "            target_word = edge[1].split('/')[1]\n",
        "\n",
        "            if source not in word_to_node_number:\n",
        "\n",
        "                word_to_node_number[source] = len(word_to_node_number)\n",
        "                \n",
        "                # one hot vector representing the node word\n",
        "                word_vector = [0] * len(self.word_to_index)\n",
        "                word_vector[self.word_to_index[source_word]] = 1\n",
        "                x.append(word_vector)\n",
        "\n",
        "            if target not in word_to_node_number:\n",
        "                word_to_node_number[target] = len(word_to_node_number)\n",
        "                \n",
        "                # one hot vector representing the node word\n",
        "                word_vector = [0] * len(self.word_to_index)\n",
        "                word_vector[self.word_to_index[target_word]] = 1\n",
        "                x.append(word_vector)\n",
        "\n",
        "            edge_label = edge[2]\n",
        "\n",
        "            # build the list of edges\n",
        "            sources[i] = word_to_node_number[source]\n",
        "            targets[i] = word_to_node_number[target]\n",
        "            \n",
        "            # one hot vector representing the type of relation between  source and target node\n",
        "            edge_vector = [0] * len(self.edge_label_to_index)\n",
        "            edge_vector[self.edge_label_to_index[edge_label]] = 1\n",
        "            edge_attr.append(edge_vector)\n",
        "\n",
        "\n",
        "            i += 1\n",
        "\n",
        "            \n",
        "        print(edge_index)\n",
        "        print(edge_attr)\n",
        "        print(x)\n",
        "        \n",
        "    \n",
        "        edge_index = torch.tensor([[0, 1, 1, 2],\n",
        "                                   [1, 0, 2, 1]], dtype=torch.long)\n",
        "        x = torch.tensor([[-1], [0], [1]], dtype=torch.float)\n",
        "        \n",
        "        data = Data(x=x, edge_index=edge_index, edge_attr=edge_attr, y=target)\n",
        "        return data\n"
      ],
      "metadata": {
        "id": "f7z5K1_NgdMP"
      },
      "execution_count": 13,
      "outputs": []
    },
    {
      "cell_type": "code",
      "source": [
        "DP = DataParser()\n",
        "DP.build_dictionaries([\"\"])\n",
        "print(DP.word_to_index)\n",
        "print(DP.edge_label_to_index)\n",
        "DP.build_data_graph(\"\", \"positive\")\n"
      ],
      "metadata": {
        "colab": {
          "base_uri": "https://localhost:8080/"
        },
        "id": "u_HZQYNDgfbq",
        "outputId": "410a74a2-2c88-4548-d24f-85e4936879d8"
      },
      "execution_count": 15,
      "outputs": [
        {
          "output_type": "stream",
          "name": "stdout",
          "text": [
            "{'test-01\"': 0, 'system\"': 1, 'this\"': 2}\n",
            "{'\":ARG1\"': 0, '\":domain\"': 1}\n",
            "[[0, 0], [1, 2]]\n",
            "[[1, 0], [0, 1]]\n",
            "[[1, 0, 0], [0, 1, 0], [0, 0, 1]]\n"
          ]
        },
        {
          "output_type": "execute_result",
          "data": {
            "text/plain": [
              "Data(x=[3, 1], edge_index=[2, 4], edge_attr=[2], y='\"t2')"
            ]
          },
          "metadata": {},
          "execution_count": 15
        }
      ]
    }
  ]
}
