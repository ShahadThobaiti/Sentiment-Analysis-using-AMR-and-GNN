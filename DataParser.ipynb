{
  "nbformat": 4,
  "nbformat_minor": 0,
  "metadata": {
    "colab": {
      "name": "DataParser.ipynb",
      "provenance": []
    },
    "kernelspec": {
      "name": "python3",
      "display_name": "Python 3"
    },
    "language_info": {
      "name": "python"
    }
  },
  "cells": [
    {
      "cell_type": "code",
      "execution_count": 1,
      "metadata": {
        "id": "r0BghKm3gPHV"
      },
      "outputs": [],
      "source": [
        "def get_edges_list_with_labels(tweets):\n",
        "    return [('\"t/test-01\"', '\"s/system\"', '\":ARG1\"'),\n",
        " ('\"t/test-01\"', '\"t2/this\"', '\":domain\"')]\n",
        "\n",
        "\n",
        "import torch"
      ]
    },
    {
      "cell_type": "code",
      "source": [
        "class DataParser:\n",
        "    edge_label_to_index = {}\n",
        "    word_to_index = {}\n",
        "\n",
        "\n",
        "    def build_dictionaries(self, tweets_list):\n",
        "        for tweet in tweets_list:\n",
        "            edges_list = get_edges_list_with_labels(tweet)\n",
        "            for edge in edges_list:\n",
        "                source = edge[0].split('/')[1]\n",
        "                target = edge[1].split('/')[1]\n",
        "                edge_label = edge[2]\n",
        "                if source not in self.word_to_index:\n",
        "                    self.word_to_index[source] = len(self.word_to_index)\n",
        "                if target not in self.word_to_index:\n",
        "                    self.word_to_index[target] = len(self.word_to_index)\n",
        "                if edge_label not in self.edge_label_to_index:\n",
        "                    self.edge_label_to_index[edge_label] = len(self.edge_label_to_index)\n",
        "\n",
        "\n",
        "    def build_data_graph(self, tweet):\n",
        "        word_to_node_number = {}\n",
        "        edges_list = get_edges_list_with_labels(tweet)\n",
        "        sources = [0] * len(edges_list)\n",
        "        targets = [0] * len(edges_list)\n",
        "        edge_index = [sources, targets]\n",
        "        edge_attr = []\n",
        "        x = [] \n",
        "        i = 0\n",
        "\n",
        "        for edge in edges_list:\n",
        "\n",
        "            source = edge[0].split('/')[0]\n",
        "            source_word = edge[0].split('/')[1]\n",
        "            target = edge[1].split('/')[0]\n",
        "            target_word = edge[1].split('/')[1]\n",
        "\n",
        "            if source not in word_to_node_number:\n",
        "\n",
        "                word_to_node_number[source] = len(word_to_node_number)\n",
        "                \n",
        "                # one hot vector representing the node word\n",
        "                word_vector = [0] * len(self.word_to_index)\n",
        "                word_vector[self.word_to_index[source_word]] = 1\n",
        "                x.append(word_vector)\n",
        "\n",
        "            if target not in word_to_node_number:\n",
        "                word_to_node_number[target] = len(word_to_node_number)\n",
        "                \n",
        "                # one hot vector representing the node word\n",
        "                word_vector = [0] * len(self.word_to_index)\n",
        "                word_vector[self.word_to_index[target_word]] = 1\n",
        "                x.append(word_vector)\n",
        "            edge_label = edge[2]\n",
        "\n",
        "            # build the list of edges\n",
        "            sources[i] = word_to_node_number[source]\n",
        "            targets[i] = word_to_node_number[target]\n",
        "            \n",
        "            # one hot vector representing the type of relation between the source and target node\n",
        "            edge_vector = [0] * len(self.edge_label_to_index)\n",
        "            edge_vector[self.edge_label_to_index[edge_label]] = 1\n",
        "            edge_attr.append(edge_vector)\n",
        "\n",
        "\n",
        "            i += 1\n",
        "\n",
        "            \n",
        "        print(edge_index)\n",
        "        print(edge_attr)\n",
        "        print(x)"
      ],
      "metadata": {
        "id": "f7z5K1_NgdMP"
      },
      "execution_count": 2,
      "outputs": []
    },
    {
      "cell_type": "code",
      "source": [
        "DP = DataParser()\n",
        "DP.build_dictionaries([\"\"])\n",
        "print(DP.word_to_index)\n",
        "print(DP.edge_label_to_index)\n",
        "DP.build_data_graph(\"\")\n"
      ],
      "metadata": {
        "colab": {
          "base_uri": "https://localhost:8080/"
        },
        "id": "u_HZQYNDgfbq",
        "outputId": "94f97903-52e4-4950-c30d-766ba8231795"
      },
      "execution_count": 3,
      "outputs": [
        {
          "output_type": "stream",
          "name": "stdout",
          "text": [
            "{'test-01\"': 0, 'system\"': 1, 'this\"': 2}\n",
            "{'\":ARG1\"': 0, '\":domain\"': 1}\n",
            "[[0, 0], [1, 2]]\n",
            "[[1, 0], [0, 1]]\n",
            "[[1, 0, 0], [0, 1, 0], [0, 0, 1]]\n"
          ]
        }
      ]
    }
  ]
}